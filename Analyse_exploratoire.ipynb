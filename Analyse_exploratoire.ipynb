{
 "cells": [
  {
   "cell_type": "markdown",
   "id": "b3339bad-1860-40da-9bd8-b41dd6aa6ad6",
   "metadata": {},
   "source": [
    "\n",
    "# EDA — WFP Food Prices Haiti (2005–2025)\n",
    "\n",
    "Objectif : réaliser une **analyse exploratoire des données**\n",
    "\n",
    "\n"
   ]
  },
  {
   "cell_type": "markdown",
   "id": "63b72308-0df8-4929-83c9-37bc4a435ef0",
   "metadata": {},
   "source": [
    "## 1. Importations et configuration"
   ]
  },
  {
   "cell_type": "code",
   "execution_count": 36,
   "id": "d984185e-edde-4cff-9cd1-140166acc352",
   "metadata": {},
   "outputs": [],
   "source": [
    "import os\n",
    "import json\n",
    "import math\n",
    "import warnings\n",
    "from pathlib import Path\n",
    "\n",
    "import numpy as np\n",
    "import pandas as pd\n",
    "import matplotlib.pyplot as plt\n",
    "\n",
    "warnings.filterwarnings(\"ignore\")"
   ]
  },
  {
   "cell_type": "markdown",
   "id": "d3c74338-639a-4029-83be-c297265f020b",
   "metadata": {},
   "source": [
    "## 2. Chargement des données et inspection initiale"
   ]
  },
  {
   "cell_type": "code",
   "execution_count": 37,
   "id": "42d0a4f0-5e3a-4a3d-bc87-efa819482a99",
   "metadata": {},
   "outputs": [],
   "source": [
    "df = pd.read_csv('wfp_food_prices_hti_2025.csv')"
   ]
  },
  {
   "cell_type": "code",
   "execution_count": 38,
   "id": "443796f7-18f5-444f-91b0-bdb431cc82a1",
   "metadata": {},
   "outputs": [
    {
     "data": {
      "text/html": [
       "<div>\n",
       "<style scoped>\n",
       "    .dataframe tbody tr th:only-of-type {\n",
       "        vertical-align: middle;\n",
       "    }\n",
       "\n",
       "    .dataframe tbody tr th {\n",
       "        vertical-align: top;\n",
       "    }\n",
       "\n",
       "    .dataframe thead th {\n",
       "        text-align: right;\n",
       "    }\n",
       "</style>\n",
       "<table border=\"1\" class=\"dataframe\">\n",
       "  <thead>\n",
       "    <tr style=\"text-align: right;\">\n",
       "      <th></th>\n",
       "      <th>date</th>\n",
       "      <th>admin1</th>\n",
       "      <th>admin2</th>\n",
       "      <th>market</th>\n",
       "      <th>market_id</th>\n",
       "      <th>latitude</th>\n",
       "      <th>longitude</th>\n",
       "      <th>category</th>\n",
       "      <th>commodity</th>\n",
       "      <th>commodity_id</th>\n",
       "      <th>unit</th>\n",
       "      <th>priceflag</th>\n",
       "      <th>pricetype</th>\n",
       "      <th>currency</th>\n",
       "      <th>price</th>\n",
       "      <th>usdprice</th>\n",
       "    </tr>\n",
       "  </thead>\n",
       "  <tbody>\n",
       "    <tr>\n",
       "      <th>0</th>\n",
       "      <td>#date</td>\n",
       "      <td>#adm1+name</td>\n",
       "      <td>#adm2+name</td>\n",
       "      <td>#loc+market+name</td>\n",
       "      <td>#loc+market+code</td>\n",
       "      <td>#geo+lat</td>\n",
       "      <td>#geo+lon</td>\n",
       "      <td>#item+type</td>\n",
       "      <td>#item+name</td>\n",
       "      <td>#item+code</td>\n",
       "      <td>#item+unit</td>\n",
       "      <td>#item+price+flag</td>\n",
       "      <td>#item+price+type</td>\n",
       "      <td>#currency+code</td>\n",
       "      <td>#value</td>\n",
       "      <td>#value+usd</td>\n",
       "    </tr>\n",
       "    <tr>\n",
       "      <th>1</th>\n",
       "      <td>2005-01-15</td>\n",
       "      <td>Artibonite</td>\n",
       "      <td>Gonaives</td>\n",
       "      <td>Gonaives</td>\n",
       "      <td>103</td>\n",
       "      <td>19.45</td>\n",
       "      <td>-72.68</td>\n",
       "      <td>cereals and tubers</td>\n",
       "      <td>Maize meal (local)</td>\n",
       "      <td>471</td>\n",
       "      <td>Marmite</td>\n",
       "      <td>actual</td>\n",
       "      <td>Retail</td>\n",
       "      <td>HTG</td>\n",
       "      <td>60</td>\n",
       "      <td>1.41</td>\n",
       "    </tr>\n",
       "    <tr>\n",
       "      <th>2</th>\n",
       "      <td>2005-01-15</td>\n",
       "      <td>Artibonite</td>\n",
       "      <td>Gonaives</td>\n",
       "      <td>Gonaives</td>\n",
       "      <td>103</td>\n",
       "      <td>19.45</td>\n",
       "      <td>-72.68</td>\n",
       "      <td>cereals and tubers</td>\n",
       "      <td>Rice (tchako)</td>\n",
       "      <td>57</td>\n",
       "      <td>Marmite</td>\n",
       "      <td>actual</td>\n",
       "      <td>Retail</td>\n",
       "      <td>HTG</td>\n",
       "      <td>94</td>\n",
       "      <td>2.21</td>\n",
       "    </tr>\n",
       "    <tr>\n",
       "      <th>3</th>\n",
       "      <td>2005-01-15</td>\n",
       "      <td>Artibonite</td>\n",
       "      <td>Gonaives</td>\n",
       "      <td>Gonaives</td>\n",
       "      <td>103</td>\n",
       "      <td>19.45</td>\n",
       "      <td>-72.68</td>\n",
       "      <td>cereals and tubers</td>\n",
       "      <td>Wheat flour (imported)</td>\n",
       "      <td>339</td>\n",
       "      <td>Marmite</td>\n",
       "      <td>actual</td>\n",
       "      <td>Retail</td>\n",
       "      <td>HTG</td>\n",
       "      <td>60</td>\n",
       "      <td>1.41</td>\n",
       "    </tr>\n",
       "    <tr>\n",
       "      <th>4</th>\n",
       "      <td>2005-01-15</td>\n",
       "      <td>Centre</td>\n",
       "      <td>Hinche</td>\n",
       "      <td>Hinche</td>\n",
       "      <td>104</td>\n",
       "      <td>19.15</td>\n",
       "      <td>-72.02</td>\n",
       "      <td>cereals and tubers</td>\n",
       "      <td>Maize meal (imported)</td>\n",
       "      <td>574</td>\n",
       "      <td>Pound</td>\n",
       "      <td>actual</td>\n",
       "      <td>Retail</td>\n",
       "      <td>HTG</td>\n",
       "      <td>13.16</td>\n",
       "      <td>0.31</td>\n",
       "    </tr>\n",
       "  </tbody>\n",
       "</table>\n",
       "</div>"
      ],
      "text/plain": [
       "         date      admin1      admin2            market         market_id  \\\n",
       "0       #date  #adm1+name  #adm2+name  #loc+market+name  #loc+market+code   \n",
       "1  2005-01-15  Artibonite    Gonaives          Gonaives               103   \n",
       "2  2005-01-15  Artibonite    Gonaives          Gonaives               103   \n",
       "3  2005-01-15  Artibonite    Gonaives          Gonaives               103   \n",
       "4  2005-01-15      Centre      Hinche            Hinche               104   \n",
       "\n",
       "   latitude longitude            category               commodity  \\\n",
       "0  #geo+lat  #geo+lon          #item+type              #item+name   \n",
       "1     19.45    -72.68  cereals and tubers      Maize meal (local)   \n",
       "2     19.45    -72.68  cereals and tubers           Rice (tchako)   \n",
       "3     19.45    -72.68  cereals and tubers  Wheat flour (imported)   \n",
       "4     19.15    -72.02  cereals and tubers   Maize meal (imported)   \n",
       "\n",
       "  commodity_id        unit         priceflag         pricetype  \\\n",
       "0   #item+code  #item+unit  #item+price+flag  #item+price+type   \n",
       "1          471     Marmite            actual            Retail   \n",
       "2           57     Marmite            actual            Retail   \n",
       "3          339     Marmite            actual            Retail   \n",
       "4          574       Pound            actual            Retail   \n",
       "\n",
       "         currency   price    usdprice  \n",
       "0  #currency+code  #value  #value+usd  \n",
       "1             HTG      60        1.41  \n",
       "2             HTG      94        2.21  \n",
       "3             HTG      60        1.41  \n",
       "4             HTG   13.16        0.31  "
      ]
     },
     "metadata": {},
     "output_type": "display_data"
    },
    {
     "name": "stdout",
     "output_type": "stream",
     "text": [
      "\n",
      "Column: ['date', 'admin1', 'admin2', 'market', 'market_id', 'latitude', 'longitude', 'category', 'commodity', 'commodity_id', 'unit', 'priceflag', 'pricetype', 'currency', 'price', 'usdprice']\n"
     ]
    },
    {
     "data": {
      "text/plain": [
       "15413"
      ]
     },
     "execution_count": 38,
     "metadata": {},
     "output_type": "execute_result"
    }
   ],
   "source": [
    "df.shape\n",
    "display(df.head(5))\n",
    "\n",
    "print(\"\\nColumn:\", list(df.columns))\n",
    "\n",
    "df.shape[0]"
   ]
  },
  {
   "cell_type": "code",
   "execution_count": 39,
   "id": "9483c3a2-ad31-4870-8a82-6e4cabf94fba",
   "metadata": {},
   "outputs": [],
   "source": [
    "for col in ['price', 'usdprice', 'latitude', 'longitude']:\n",
    "    if col in df.columns:\n",
    "        df[col] = pd.to_numeric(df[col], errors='coerce')\n",
    "\n",
    "df['date'] = pd.to_datetime(df['date'], errors='coerce')\n",
    "for col in ['market_id', 'commodity_id']:\n",
    "    if col in df.columns:\n",
    "        df[col] = pd.to_numeric(df[col], errors='coerce', downcast='integer')\n",
    "\n",
    "# Strip text \n",
    "text_cols = ['admin1','admin2','market','category','commodity','unit','priceflag','pricetype','currency']\n",
    "for c in text_cols:\n",
    "    if c in df.columns:\n",
    "        df[c] = df[c].astype(str).str.strip()\n",
    "\n",
    "\n",
    "df = df.drop_duplicates()\n",
    "\n"
   ]
  },
  {
   "cell_type": "markdown",
   "id": "e13c0b17-cf15-48b4-808d-4658c509f076",
   "metadata": {},
   "source": [
    "## 4. Qualité de la donnée"
   ]
  },
  {
   "cell_type": "code",
   "execution_count": 40,
   "id": "b6adb41d-4e33-44ca-affa-8f2ee2008f32",
   "metadata": {},
   "outputs": [
    {
     "data": {
      "text/html": [
       "<div>\n",
       "<style scoped>\n",
       "    .dataframe tbody tr th:only-of-type {\n",
       "        vertical-align: middle;\n",
       "    }\n",
       "\n",
       "    .dataframe tbody tr th {\n",
       "        vertical-align: top;\n",
       "    }\n",
       "\n",
       "    .dataframe thead th {\n",
       "        text-align: right;\n",
       "    }\n",
       "</style>\n",
       "<table border=\"1\" class=\"dataframe\">\n",
       "  <thead>\n",
       "    <tr style=\"text-align: right;\">\n",
       "      <th></th>\n",
       "      <th>na_rate</th>\n",
       "    </tr>\n",
       "  </thead>\n",
       "  <tbody>\n",
       "    <tr>\n",
       "      <th>date</th>\n",
       "      <td>0.01</td>\n",
       "    </tr>\n",
       "    <tr>\n",
       "      <th>market_id</th>\n",
       "      <td>0.01</td>\n",
       "    </tr>\n",
       "    <tr>\n",
       "      <th>latitude</th>\n",
       "      <td>0.01</td>\n",
       "    </tr>\n",
       "    <tr>\n",
       "      <th>longitude</th>\n",
       "      <td>0.01</td>\n",
       "    </tr>\n",
       "    <tr>\n",
       "      <th>commodity_id</th>\n",
       "      <td>0.01</td>\n",
       "    </tr>\n",
       "    <tr>\n",
       "      <th>price</th>\n",
       "      <td>0.01</td>\n",
       "    </tr>\n",
       "    <tr>\n",
       "      <th>usdprice</th>\n",
       "      <td>0.01</td>\n",
       "    </tr>\n",
       "    <tr>\n",
       "      <th>admin1</th>\n",
       "      <td>0.00</td>\n",
       "    </tr>\n",
       "    <tr>\n",
       "      <th>admin2</th>\n",
       "      <td>0.00</td>\n",
       "    </tr>\n",
       "    <tr>\n",
       "      <th>market</th>\n",
       "      <td>0.00</td>\n",
       "    </tr>\n",
       "    <tr>\n",
       "      <th>category</th>\n",
       "      <td>0.00</td>\n",
       "    </tr>\n",
       "    <tr>\n",
       "      <th>commodity</th>\n",
       "      <td>0.00</td>\n",
       "    </tr>\n",
       "    <tr>\n",
       "      <th>unit</th>\n",
       "      <td>0.00</td>\n",
       "    </tr>\n",
       "    <tr>\n",
       "      <th>priceflag</th>\n",
       "      <td>0.00</td>\n",
       "    </tr>\n",
       "    <tr>\n",
       "      <th>pricetype</th>\n",
       "      <td>0.00</td>\n",
       "    </tr>\n",
       "    <tr>\n",
       "      <th>currency</th>\n",
       "      <td>0.00</td>\n",
       "    </tr>\n",
       "  </tbody>\n",
       "</table>\n",
       "</div>"
      ],
      "text/plain": [
       "              na_rate\n",
       "date             0.01\n",
       "market_id        0.01\n",
       "latitude         0.01\n",
       "longitude        0.01\n",
       "commodity_id     0.01\n",
       "price            0.01\n",
       "usdprice         0.01\n",
       "admin1           0.00\n",
       "admin2           0.00\n",
       "market           0.00\n",
       "category         0.00\n",
       "commodity        0.00\n",
       "unit             0.00\n",
       "priceflag        0.00\n",
       "pricetype        0.00\n",
       "currency         0.00"
      ]
     },
     "metadata": {},
     "output_type": "display_data"
    },
    {
     "data": {
      "text/plain": [
       "date            datetime64[ns]\n",
       "admin1                  object\n",
       "admin2                  object\n",
       "market                  object\n",
       "market_id              float64\n",
       "latitude               float64\n",
       "longitude              float64\n",
       "category                object\n",
       "commodity               object\n",
       "commodity_id           float64\n",
       "unit                    object\n",
       "priceflag               object\n",
       "pricetype               object\n",
       "currency                object\n",
       "price                  float64\n",
       "usdprice               float64\n",
       "dtype: object"
      ]
     },
     "execution_count": 40,
     "metadata": {},
     "output_type": "execute_result"
    }
   ],
   "source": [
    "na_rate = df.isna().mean().sort_values(ascending=False).rename('na_rate')\n",
    "display((na_rate*100).round(2).to_frame())\n",
    "\n",
    "\n",
    "df.dtypes"
   ]
  },
  {
   "cell_type": "code",
   "execution_count": 41,
   "id": "e65eda10-936d-495d-a753-b53f0932a6c9",
   "metadata": {},
   "outputs": [
    {
     "data": {
      "text/html": [
       "<div>\n",
       "<style scoped>\n",
       "    .dataframe tbody tr th:only-of-type {\n",
       "        vertical-align: middle;\n",
       "    }\n",
       "\n",
       "    .dataframe tbody tr th {\n",
       "        vertical-align: top;\n",
       "    }\n",
       "\n",
       "    .dataframe thead th {\n",
       "        text-align: right;\n",
       "    }\n",
       "</style>\n",
       "<table border=\"1\" class=\"dataframe\">\n",
       "  <thead>\n",
       "    <tr style=\"text-align: right;\">\n",
       "      <th></th>\n",
       "      <th>price</th>\n",
       "      <th>usdprice</th>\n",
       "      <th>latitude</th>\n",
       "      <th>longitude</th>\n",
       "    </tr>\n",
       "  </thead>\n",
       "  <tbody>\n",
       "    <tr>\n",
       "      <th>count</th>\n",
       "      <td>15412.000000</td>\n",
       "      <td>15412.000000</td>\n",
       "      <td>15412.000000</td>\n",
       "      <td>15412.000000</td>\n",
       "    </tr>\n",
       "    <tr>\n",
       "      <th>mean</th>\n",
       "      <td>264.160604</td>\n",
       "      <td>3.115601</td>\n",
       "      <td>18.976405</td>\n",
       "      <td>-72.691466</td>\n",
       "    </tr>\n",
       "    <tr>\n",
       "      <th>std</th>\n",
       "      <td>342.870603</td>\n",
       "      <td>2.814973</td>\n",
       "      <td>0.615003</td>\n",
       "      <td>0.753501</td>\n",
       "    </tr>\n",
       "    <tr>\n",
       "      <th>min</th>\n",
       "      <td>6.750000</td>\n",
       "      <td>0.160000</td>\n",
       "      <td>18.200000</td>\n",
       "      <td>-74.160000</td>\n",
       "    </tr>\n",
       "    <tr>\n",
       "      <th>1%</th>\n",
       "      <td>12.000000</td>\n",
       "      <td>0.280000</td>\n",
       "      <td>18.200000</td>\n",
       "      <td>-74.080000</td>\n",
       "    </tr>\n",
       "    <tr>\n",
       "      <th>5%</th>\n",
       "      <td>16.800000</td>\n",
       "      <td>0.370000</td>\n",
       "      <td>18.200000</td>\n",
       "      <td>-74.080000</td>\n",
       "    </tr>\n",
       "    <tr>\n",
       "      <th>25%</th>\n",
       "      <td>43.697500</td>\n",
       "      <td>0.880000</td>\n",
       "      <td>18.540000</td>\n",
       "      <td>-72.830000</td>\n",
       "    </tr>\n",
       "    <tr>\n",
       "      <th>50%</th>\n",
       "      <td>120.000000</td>\n",
       "      <td>2.230000</td>\n",
       "      <td>19.150000</td>\n",
       "      <td>-72.530000</td>\n",
       "    </tr>\n",
       "    <tr>\n",
       "      <th>75%</th>\n",
       "      <td>350.000000</td>\n",
       "      <td>4.580000</td>\n",
       "      <td>19.550000</td>\n",
       "      <td>-72.200000</td>\n",
       "    </tr>\n",
       "    <tr>\n",
       "      <th>95%</th>\n",
       "      <td>1000.000000</td>\n",
       "      <td>8.364500</td>\n",
       "      <td>19.940000</td>\n",
       "      <td>-71.730000</td>\n",
       "    </tr>\n",
       "    <tr>\n",
       "      <th>99%</th>\n",
       "      <td>1646.182000</td>\n",
       "      <td>13.118900</td>\n",
       "      <td>19.940000</td>\n",
       "      <td>-71.730000</td>\n",
       "    </tr>\n",
       "    <tr>\n",
       "      <th>max</th>\n",
       "      <td>2500.000000</td>\n",
       "      <td>18.980000</td>\n",
       "      <td>19.940000</td>\n",
       "      <td>-71.730000</td>\n",
       "    </tr>\n",
       "  </tbody>\n",
       "</table>\n",
       "</div>"
      ],
      "text/plain": [
       "              price      usdprice      latitude     longitude\n",
       "count  15412.000000  15412.000000  15412.000000  15412.000000\n",
       "mean     264.160604      3.115601     18.976405    -72.691466\n",
       "std      342.870603      2.814973      0.615003      0.753501\n",
       "min        6.750000      0.160000     18.200000    -74.160000\n",
       "1%        12.000000      0.280000     18.200000    -74.080000\n",
       "5%        16.800000      0.370000     18.200000    -74.080000\n",
       "25%       43.697500      0.880000     18.540000    -72.830000\n",
       "50%      120.000000      2.230000     19.150000    -72.530000\n",
       "75%      350.000000      4.580000     19.550000    -72.200000\n",
       "95%     1000.000000      8.364500     19.940000    -71.730000\n",
       "99%     1646.182000     13.118900     19.940000    -71.730000\n",
       "max     2500.000000     18.980000     19.940000    -71.730000"
      ]
     },
     "metadata": {},
     "output_type": "display_data"
    },
    {
     "name": "stdout",
     "output_type": "stream",
     "text": [
      "\n",
      "Top modalités pour category:\n"
     ]
    },
    {
     "data": {
      "text/plain": [
       "category\n",
       "cereals and tubers       10476\n",
       "pulses and nuts           3033\n",
       "oil and fats              1082\n",
       "miscellaneous food         779\n",
       "vegetables and fruits       42\n",
       "#item+type                   1\n",
       "Name: count, dtype: int64"
      ]
     },
     "metadata": {},
     "output_type": "display_data"
    },
    {
     "name": "stdout",
     "output_type": "stream",
     "text": [
      "\n",
      "Top modalités pour commodity:\n"
     ]
    },
    {
     "data": {
      "text/plain": [
       "commodity\n",
       "Wheat flour (imported)       1920\n",
       "Maize meal (local)           1897\n",
       "Beans (black)                1577\n",
       "Sorghum                      1559\n",
       "Rice (tchako)                1525\n",
       "Beans (red)                  1453\n",
       "Rice (local)                 1326\n",
       "Maize meal (imported)        1133\n",
       "Oil (vegetable, imported)    1082\n",
       "Sugar (white)                 779\n",
       "Name: count, dtype: int64"
      ]
     },
     "metadata": {},
     "output_type": "display_data"
    },
    {
     "name": "stdout",
     "output_type": "stream",
     "text": [
      "\n",
      "Top modalités pour unit:\n"
     ]
    },
    {
     "data": {
      "text/plain": [
       "unit\n",
       "Marmite    9585\n",
       "Pound      4137\n",
       "Gallon     1082\n",
       "350 G       563\n",
       "4 pcs        14\n",
       "3 pcs        11\n",
       "Dozen         5\n",
       "Unit          4\n",
       "Packet        4\n",
       "10 pcs        4\n",
       "Name: count, dtype: int64"
      ]
     },
     "metadata": {},
     "output_type": "display_data"
    },
    {
     "name": "stdout",
     "output_type": "stream",
     "text": [
      "\n",
      "Top modalités pour currency:\n"
     ]
    },
    {
     "data": {
      "text/plain": [
       "currency\n",
       "HTG               15412\n",
       "#currency+code        1\n",
       "Name: count, dtype: int64"
      ]
     },
     "metadata": {},
     "output_type": "display_data"
    },
    {
     "name": "stdout",
     "output_type": "stream",
     "text": [
      "\n",
      "Top modalités pour pricetype:\n"
     ]
    },
    {
     "data": {
      "text/plain": [
       "pricetype\n",
       "Retail              15412\n",
       "#item+price+type        1\n",
       "Name: count, dtype: int64"
      ]
     },
     "metadata": {},
     "output_type": "display_data"
    },
    {
     "name": "stdout",
     "output_type": "stream",
     "text": [
      "\n",
      "Top modalités pour priceflag:\n"
     ]
    },
    {
     "data": {
      "text/plain": [
       "priceflag\n",
       "actual              15412\n",
       "#item+price+flag        1\n",
       "Name: count, dtype: int64"
      ]
     },
     "metadata": {},
     "output_type": "display_data"
    },
    {
     "name": "stdout",
     "output_type": "stream",
     "text": [
      "\n",
      "Top modalités pour admin1:\n"
     ]
    },
    {
     "data": {
      "text/plain": [
       "admin1\n",
       "West           2106\n",
       "Centre         1932\n",
       "Grande'Anse    1920\n",
       "North          1918\n",
       "South-East     1860\n",
       "South          1792\n",
       "North-East     1464\n",
       "Artibonite     1276\n",
       "North-West     1144\n",
       "#adm1+name        1\n",
       "Name: count, dtype: int64"
      ]
     },
     "metadata": {},
     "output_type": "display_data"
    },
    {
     "name": "stdout",
     "output_type": "stream",
     "text": [
      "\n",
      "Top modalités pour market:\n"
     ]
    },
    {
     "data": {
      "text/plain": [
       "market\n",
       "Port-au-Prince       2106\n",
       "Hinche               1932\n",
       "Cap-Haitien          1918\n",
       "Jeremie              1869\n",
       "Jacmel               1860\n",
       "Cayes                1792\n",
       "Ouanaminthe          1464\n",
       "Gonaives             1276\n",
       "Port-de-Paix         1144\n",
       "Marche de Jeremie      20\n",
       "Name: count, dtype: int64"
      ]
     },
     "metadata": {},
     "output_type": "display_data"
    }
   ],
   "source": [
    "# Stats\n",
    "display(df[['price','usdprice','latitude','longitude']].describe(percentiles=[.01,.05,.25,.5,.75,.95,.99]))\n",
    "\n",
    "# Analyse \n",
    "for c in ['category','commodity','unit','currency','pricetype','priceflag','admin1','market']:\n",
    "    if c in df.columns:\n",
    "        vc = df[c].value_counts(dropna=False).head(10)\n",
    "        print(f\"\\nTop modalités pour {c}:\")\n",
    "        display(vc)"
   ]
  }
 ],
 "metadata": {
  "kernelspec": {
   "display_name": "Python 3 (ipykernel)",
   "language": "python",
   "name": "python3"
  },
  "language_info": {
   "codemirror_mode": {
    "name": "ipython",
    "version": 3
   },
   "file_extension": ".py",
   "mimetype": "text/x-python",
   "name": "python",
   "nbconvert_exporter": "python",
   "pygments_lexer": "ipython3",
   "version": "3.12.7"
  }
 },
 "nbformat": 4,
 "nbformat_minor": 5
}
